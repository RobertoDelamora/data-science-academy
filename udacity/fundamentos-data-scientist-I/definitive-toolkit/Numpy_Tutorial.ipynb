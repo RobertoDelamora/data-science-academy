{
 "cells": [
  {
   "cell_type": "markdown",
   "metadata": {},
   "source": [
    "<b>Definitive NumPy Toolkit</b>\n",
    "\n",
    "Este Notebook tem por objetivo abordar conceietos essenciais de uma das principais bibliotecas envolvidas no processo de Análise de Dados em Python: NumPy.\n",
    "\n",
    "O NumPy oferece as bases matemáticas necessárias para a construção de modelos de Machine Learning, Deep Learning e aplicações de Inteligência Artificial. Seus objetos nativos proporcionam a criação de _arrays_ e _matrizes_ de maneira rápida e simples, bem como funções matemáticas para operações com estes objetos.\n",
    "\n",
    "Entre suas principais funcionalidades: criação de arrays multidimensionais, ferramentas para leitura de Datasets baseados em arrays e, por fim, operações de álgebra linear. A tranferência, em um processo de Análise de Dados, de um algorítimo para outro, pode ser feita através de objetos do NumPy.\n",
    "\n",
    "[Site-Oficial](http://www.numpy.org/)"
   ]
  },
  {
   "cell_type": "code",
   "execution_count": null,
   "metadata": {},
   "outputs": [],
   "source": []
  },
  {
   "cell_type": "markdown",
   "metadata": {
    "heading_collapsed": true
   },
   "source": [
    "# Data Science Academy"
   ]
  },
  {
   "cell_type": "markdown",
   "metadata": {
    "hidden": true
   },
   "source": [
    "## Criando Arrays"
   ]
  },
  {
   "cell_type": "code",
   "execution_count": 1,
   "metadata": {
    "hidden": true
   },
   "outputs": [],
   "source": [
    "# Importando biblioteca\n",
    "import numpy as np"
   ]
  },
  {
   "cell_type": "code",
   "execution_count": 4,
   "metadata": {
    "hidden": true
   },
   "outputs": [
    {
     "data": {
      "text/plain": [
       "array([0, 1, 2, 3, 4, 5, 6, 7, 8])"
      ]
     },
     "execution_count": 4,
     "metadata": {},
     "output_type": "execute_result"
    }
   ],
   "source": [
    "# np.array(list)\n",
    "first_array = np.array([0, 1, 2, 3, 4, 5, 6, 7, 8])\n",
    "first_array"
   ]
  },
  {
   "cell_type": "code",
   "execution_count": 3,
   "metadata": {
    "hidden": true
   },
   "outputs": [
    {
     "data": {
      "text/plain": [
       "numpy.ndarray"
      ]
     },
     "execution_count": 3,
     "metadata": {},
     "output_type": "execute_result"
    }
   ],
   "source": [
    "# Verificando o tipo do objeto criado\n",
    "type(first_array)"
   ]
  },
  {
   "cell_type": "markdown",
   "metadata": {
    "hidden": true
   },
   "source": [
    "O tipo ndarray significa que o objeto é um array de _n_ dimensões."
   ]
  },
  {
   "cell_type": "code",
   "execution_count": 6,
   "metadata": {
    "hidden": true
   },
   "outputs": [
    {
     "data": {
      "text/plain": [
       "array([3, 4, 5, 6, 7, 8])"
      ]
     },
     "execution_count": 6,
     "metadata": {},
     "output_type": "execute_result"
    }
   ],
   "source": [
    "# Slicing\n",
    "first_array[3:]"
   ]
  },
  {
   "cell_type": "code",
   "execution_count": 7,
   "metadata": {
    "hidden": true
   },
   "outputs": [
    {
     "data": {
      "text/plain": [
       "(9,)"
      ]
     },
     "execution_count": 7,
     "metadata": {},
     "output_type": "execute_result"
    }
   ],
   "source": [
    "# Verificando formato do array\n",
    "first_array.shape"
   ]
  },
  {
   "cell_type": "markdown",
   "metadata": {
    "hidden": true
   },
   "source": [
    "O resultado acima indica que trata-se de um array <b>Unidimensional</b> (uma única dimensão apenas) e 9 colunas (atributos)."
   ]
  },
  {
   "cell_type": "code",
   "execution_count": 13,
   "metadata": {
    "hidden": true
   },
   "outputs": [
    {
     "data": {
      "text/plain": [
       "array([ 0. ,  2.5,  5. ,  7.5, 10. , 12.5, 15. ])"
      ]
     },
     "execution_count": 13,
     "metadata": {},
     "output_type": "execute_result"
    }
   ],
   "source": [
    "# Array com a função .arange(start, stop, step)\n",
    "sec_array = np.arange(0., 16.0, 2.5)\n",
    "sec_array"
   ]
  },
  {
   "cell_type": "code",
   "execution_count": 14,
   "metadata": {
    "hidden": true
   },
   "outputs": [
    {
     "name": "stdout",
     "output_type": "stream",
     "text": [
      "<class 'numpy.ndarray'>\n",
      "(7,)\n"
     ]
    }
   ],
   "source": [
    "# Verificando tipo e shape\n",
    "print(type(sec_array))\n",
    "print(sec_array.shape)"
   ]
  },
  {
   "cell_type": "code",
   "execution_count": 17,
   "metadata": {
    "hidden": true
   },
   "outputs": [
    {
     "data": {
      "text/plain": [
       "dtype('float64')"
      ]
     },
     "execution_count": 17,
     "metadata": {},
     "output_type": "execute_result"
    }
   ],
   "source": [
    "# Verificando o tipo dos elementos desste array\n",
    "sec_array.dtype"
   ]
  },
  {
   "cell_type": "markdown",
   "metadata": {
    "hidden": true
   },
   "source": [
    "Há diversas formas de se criar _arrays_ com NumPy. Algumas funções já retornam arrays prontos, como poderá ser visto logo abaixo:"
   ]
  },
  {
   "cell_type": "code",
   "execution_count": 18,
   "metadata": {
    "hidden": true
   },
   "outputs": [
    {
     "data": {
      "text/plain": [
       "array([0., 0., 0., 0., 0., 0., 0., 0., 0., 0.])"
      ]
     },
     "execution_count": 18,
     "metadata": {},
     "output_type": "execute_result"
    }
   ],
   "source": [
    "# Array de zeros .zeros(n)\n",
    "np.zeros(10)"
   ]
  },
  {
   "cell_type": "code",
   "execution_count": 19,
   "metadata": {
    "hidden": true
   },
   "outputs": [
    {
     "data": {
      "text/plain": [
       "array([[1., 0., 0., 0.],\n",
       "       [0., 1., 0., 0.],\n",
       "       [0., 0., 1., 0.],\n",
       "       [0., 0., 0., 1.]])"
      ]
     },
     "execution_count": 19,
     "metadata": {},
     "output_type": "execute_result"
    }
   ],
   "source": [
    "# Matriz identidade .eye(x)\n",
    "np.eye(4)"
   ]
  },
  {
   "cell_type": "code",
   "execution_count": 21,
   "metadata": {
    "hidden": true
   },
   "outputs": [
    {
     "data": {
      "text/plain": [
       "array([[1, 0, 0, 0],\n",
       "       [0, 2, 0, 0],\n",
       "       [0, 0, 3, 0],\n",
       "       [0, 0, 0, 4]])"
      ]
     },
     "execution_count": 21,
     "metadata": {},
     "output_type": "execute_result"
    }
   ],
   "source": [
    "# Matriz com diagonal definida .diag(array)\n",
    "np.diag(np.array([1, 2, 3, 4]))"
   ]
  },
  {
   "cell_type": "code",
   "execution_count": 22,
   "metadata": {
    "hidden": true
   },
   "outputs": [
    {
     "data": {
      "text/plain": [
       "array([0.        , 0.10204082, 0.20408163, 0.30612245, 0.40816327,\n",
       "       0.51020408, 0.6122449 , 0.71428571, 0.81632653, 0.91836735,\n",
       "       1.02040816, 1.12244898, 1.2244898 , 1.32653061, 1.42857143,\n",
       "       1.53061224, 1.63265306, 1.73469388, 1.83673469, 1.93877551,\n",
       "       2.04081633, 2.14285714, 2.24489796, 2.34693878, 2.44897959,\n",
       "       2.55102041, 2.65306122, 2.75510204, 2.85714286, 2.95918367,\n",
       "       3.06122449, 3.16326531, 3.26530612, 3.36734694, 3.46938776,\n",
       "       3.57142857, 3.67346939, 3.7755102 , 3.87755102, 3.97959184,\n",
       "       4.08163265, 4.18367347, 4.28571429, 4.3877551 , 4.48979592,\n",
       "       4.59183673, 4.69387755, 4.79591837, 4.89795918, 5.        ])"
      ]
     },
     "execution_count": 22,
     "metadata": {},
     "output_type": "execute_result"
    }
   ],
   "source": [
    "# O método linspace (linearly spaced vector) retorna um número de \n",
    "# valores igualmente distribuídos no intervalo especificado \n",
    "np.linspace(0, 5)"
   ]
  },
  {
   "cell_type": "code",
   "execution_count": 24,
   "metadata": {
    "hidden": true
   },
   "outputs": [
    {
     "data": {
      "text/plain": [
       "array([0.        , 0.55555556, 1.11111111, 1.66666667, 2.22222222,\n",
       "       2.77777778, 3.33333333, 3.88888889, 4.44444444, 5.        ])"
      ]
     },
     "execution_count": 24,
     "metadata": {},
     "output_type": "execute_result"
    }
   ],
   "source": [
    "# Especificando a quantidade de elementos\n",
    "np.linspace(0, 5, 10)"
   ]
  },
  {
   "cell_type": "markdown",
   "metadata": {
    "heading_collapsed": true
   },
   "source": [
    "# Introdução"
   ]
  },
  {
   "cell_type": "markdown",
   "metadata": {
    "hidden": true
   },
   "source": [
    "Um array NumPy é um conjunto de valores, todos do _mesmo tipo_ (normalmente booleano ou numérico, como int ou float), indexados por uma _tupla_ de valores não negativos. O uso de _arrays_ são muitos semelhantes as _listas_ da linguagem Python, entretanto sua eficiência é extremamente maior, proporcionando o processamento grandes conjuntos de dados numéricos em um curto período de tempo, sem o gasto de memória excessiva."
   ]
  },
  {
   "attachments": {
    "array.jpg": {
     "image/jpeg": "[encoded data removed]"
    }
   },
   "cell_type": "markdown",
   "metadata": {
    "hidden": true
   },
   "source": [
    "![array.jpg](attachment:array.jpg)"
   ]
  },
  {
   "cell_type": "markdown",
   "metadata": {},
   "source": [
    "# DataCamp"
   ]
  },
  {
   "cell_type": "markdown",
   "metadata": {},
   "source": [
    "## Arrays Unidimensionais"
   ]
  },
  {
   "cell_type": "markdown",
   "metadata": {},
   "source": [
    "### Teoria"
   ]
  },
  {
   "cell_type": "markdown",
   "metadata": {},
   "source": [
    "Vamos realizar uma simples comparação entre arrays e listas em Python. Imagine que seja necessário realizar o cálculo do IMC (Índice de Massa Corporal) através de dois pacotes de informações (listas) em Python, com a primeira contendo informações sobre o <b>peso</b> e a segunda contendo informações sobre a <b>altura</b> de uma quantidade _n_ de pessoas."
   ]
  },
  {
   "cell_type": "code",
   "execution_count": 26,
   "metadata": {},
   "outputs": [
    {
     "name": "stdout",
     "output_type": "stream",
     "text": [
      "Alturas: [1.72, 1.68, 1.71, 1.89, 1.79]\n",
      "Pesos: [65.4, 59.2, 63.6, 88.4, 68.7]\n"
     ]
    }
   ],
   "source": [
    "# Criando Listas\n",
    "height = [1.72, 1.68, 1.71, 1.89, 1.79]\n",
    "weight = [65.4, 59.2, 63.6, 88.4, 68.7]\n",
    "\n",
    "print(f'Alturas: {height}')\n",
    "print(f'Pesos: {weight}')"
   ]
  },
  {
   "cell_type": "code",
   "execution_count": 27,
   "metadata": {},
   "outputs": [
    {
     "ename": "TypeError",
     "evalue": "unsupported operand type(s) for ** or pow(): 'list' and 'int'",
     "output_type": "error",
     "traceback": [
      "\u001b[1;31m---------------------------------------------------------------------------\u001b[0m",
      "\u001b[1;31mTypeError\u001b[0m                                 Traceback (most recent call last)",
      "\u001b[1;32m<ipython-input-27-266dd3538429>\u001b[0m in \u001b[0;36m<module>\u001b[1;34m()\u001b[0m\n\u001b[0;32m      1\u001b[0m \u001b[1;31m# Realizando o cálculo de IMC em todos os dados\u001b[0m\u001b[1;33m\u001b[0m\u001b[1;33m\u001b[0m\u001b[0m\n\u001b[1;32m----> 2\u001b[1;33m \u001b[0mimc\u001b[0m \u001b[1;33m=\u001b[0m \u001b[0mweight\u001b[0m \u001b[1;33m/\u001b[0m \u001b[0mheight\u001b[0m \u001b[1;33m**\u001b[0m \u001b[1;36m2\u001b[0m\u001b[1;33m\u001b[0m\u001b[0m\n\u001b[0m",
      "\u001b[1;31mTypeError\u001b[0m: unsupported operand type(s) for ** or pow(): 'list' and 'int'"
     ]
    }
   ],
   "source": [
    "# Realizando o cálculo de IMC em todos os dados\n",
    "imc = weight / height ** 2"
   ]
  },
  {
   "cell_type": "markdown",
   "metadata": {},
   "source": [
    "Foi lançada uma excessão. Infelizmente, não é possível realizar esse tipo de operação com os objetos do tipo lista. Isto pois, as listas não são capazes de realizar cálculos em todos os dados instantaneamente.\n",
    "\n",
    "Para tal, precisaríamos percorrer cada elemento de cada uma das listas e realizar os cálculos adequados. Entretanto, este fluxo não é nada eficiente."
   ]
  },
  {
   "cell_type": "code",
   "execution_count": 28,
   "metadata": {},
   "outputs": [],
   "source": [
    "# Utilizando NumPy\n",
    "import numpy as np\n",
    "\n",
    "np_height = np.array(height)\n",
    "np_weight = np.array(weight)"
   ]
  },
  {
   "cell_type": "code",
   "execution_count": 29,
   "metadata": {},
   "outputs": [
    {
     "name": "stdout",
     "output_type": "stream",
     "text": [
      "Alturas: [1.72 1.68 1.71 1.89 1.79]\n",
      "Pesos: [65.4 59.2 63.6 88.4 68.7]\n"
     ]
    }
   ],
   "source": [
    "# Verificando objetos\n",
    "print(f'Alturas: {np_height}')\n",
    "print(f'Pesos: {np_weight}')"
   ]
  },
  {
   "cell_type": "code",
   "execution_count": 31,
   "metadata": {},
   "outputs": [],
   "source": [
    "# Calculando imc\n",
    "imc = np_weight / np_height ** 2"
   ]
  },
  {
   "cell_type": "code",
   "execution_count": 32,
   "metadata": {},
   "outputs": [
    {
     "data": {
      "text/plain": [
       "array([22.10654408, 20.97505669, 21.75028214, 24.7473475 , 21.44127836])"
      ]
     },
     "execution_count": 32,
     "metadata": {},
     "output_type": "execute_result"
    }
   ],
   "source": [
    "# Verificando resultado\n",
    "imc"
   ]
  },
  {
   "cell_type": "markdown",
   "metadata": {},
   "source": [
    "Lembrando que isto foi possível por conta de uma exigência dos arrays: todos os elementos <b>devem</b> ser do mesmo tipo. Caso haja a tentativa de criação de arrays de tipos diferentes, o Python entende que todos os elementos são _strings_. Vejamos:"
   ]
  },
  {
   "cell_type": "code",
   "execution_count": 33,
   "metadata": {},
   "outputs": [
    {
     "data": {
      "text/plain": [
       "array(['1.0', 'datacamp', 'True'], dtype='<U32')"
      ]
     },
     "execution_count": 33,
     "metadata": {},
     "output_type": "execute_result"
    }
   ],
   "source": [
    "# Diferentes elementos\n",
    "diff = np.array([1.0, 'datacamp', True])\n",
    "diff"
   ]
  },
  {
   "cell_type": "markdown",
   "metadata": {},
   "source": [
    "Apesar de enviarmos um comando para que o Python criasse um array contendo um _float_, uma _string_ e um _booleano_, no final, todos os elementos foram convertidos para _string_."
   ]
  },
  {
   "cell_type": "code",
   "execution_count": 34,
   "metadata": {},
   "outputs": [
    {
     "name": "stdout",
     "output_type": "stream",
     "text": [
      "[1, 2, 3, 1, 2, 3]\n",
      "[2 4 6]\n"
     ]
    }
   ],
   "source": [
    "# Algumas outras diferenças\n",
    "python_list = [1, 2, 3]\n",
    "numpy_array = np.array([1, 2, 3])\n",
    "\n",
    "print(python_list + python_list)\n",
    "print(numpy_array + numpy_array)"
   ]
  },
  {
   "cell_type": "markdown",
   "metadata": {},
   "source": [
    "Interessante como no primeiro caso as listas foram _concatenadas_ e, no segundo, os objetos do tipo array foram _somados_."
   ]
  },
  {
   "cell_type": "code",
   "execution_count": 35,
   "metadata": {},
   "outputs": [
    {
     "name": "stdout",
     "output_type": "stream",
     "text": [
      "[22.10654408 20.97505669 21.75028214 24.7473475  21.44127836]\n"
     ]
    }
   ],
   "source": [
    "# Indexando arrays\n",
    "print(imc)"
   ]
  },
  {
   "cell_type": "code",
   "execution_count": 36,
   "metadata": {},
   "outputs": [
    {
     "data": {
      "text/plain": [
       "20.97505668934241"
      ]
     },
     "execution_count": 36,
     "metadata": {},
     "output_type": "execute_result"
    }
   ],
   "source": [
    "# Selecionando elemento de índice 1\n",
    "imc[1]"
   ]
  },
  {
   "cell_type": "code",
   "execution_count": 37,
   "metadata": {},
   "outputs": [
    {
     "data": {
      "text/plain": [
       "array([False, False, False,  True, False])"
      ]
     },
     "execution_count": 37,
     "metadata": {},
     "output_type": "execute_result"
    }
   ],
   "source": [
    "# Criando um array de booleanos\n",
    "imc > 23"
   ]
  },
  {
   "cell_type": "code",
   "execution_count": 38,
   "metadata": {},
   "outputs": [
    {
     "data": {
      "text/plain": [
       "array([24.7473475])"
      ]
     },
     "execution_count": 38,
     "metadata": {},
     "output_type": "execute_result"
    }
   ],
   "source": [
    "# Slice and dice (array de booleanos)\n",
    "imc[imc > 23]"
   ]
  },
  {
   "cell_type": "markdown",
   "metadata": {},
   "source": [
    "### Exercícios"
   ]
  },
  {
   "cell_type": "markdown",
   "metadata": {},
   "source": [
    "#### Baseball player's height"
   ]
  },
  {
   "cell_type": "markdown",
   "metadata": {},
   "source": [
    "You are a huge baseball fan. You decide to call the MLB (Major League Baseball) and ask around for some more statistics on the height of the main players. They pass along data on more than a thousand players, which is stored as a regular Python list: height. The height is expressed in inches. Can you make a numpy array out of it and convert the units to meters?\n",
    "\n",
    "height is already available and the numpy package is loaded, so you can start straight away ([Source](stat.ucla.edu))."
   ]
  },
  {
   "cell_type": "code",
   "execution_count": 65,
   "metadata": {},
   "outputs": [
    {
     "name": "stdout",
     "output_type": "stream",
     "text": [
      "[70, 70, 76, 72, 73, 73, 78, 75, 74, 71, 77, 76, 77, 71, 72, 79, 72, 70, 76, 78, 75, 70, 77, 77, 75, 78, 76, 72, 75, 76, 75, 71, 71, 70, 74, 76, 76, 78, 79, 73, 72, 77, 79, 72, 73, 75, 78, 72, 74, 78, 77, 73, 77, 72, 78, 72, 75, 72, 78, 75, 76, 74, 72, 78, 79, 76, 73, 70, 74, 78, 75, 72, 76, 73, 74, 76, 71, 79, 76, 79, 74, 73, 78, 71, 74, 78, 74, 75, 73, 73, 73, 78, 78, 79, 75, 75, 75, 76, 70, 73]\n"
     ]
    }
   ],
   "source": [
    "# Criando lista com elementos aleatórios para alturas em polegadas\n",
    "import random\n",
    "height = []\n",
    "for i in range(100):\n",
    "    height.append(random.randrange(70, 80))\n",
    "print(height)"
   ]
  },
  {
   "cell_type": "code",
   "execution_count": 64,
   "metadata": {},
   "outputs": [
    {
     "data": {
      "text/plain": [
       "array([71, 78, 74, 78, 78, 74, 73, 74, 77, 79, 74, 78, 76, 71, 77, 78, 73,\n",
       "       72, 71, 74, 70, 78, 78, 72, 76, 75, 71, 75, 73, 75, 70, 74, 76, 78,\n",
       "       77, 70, 75, 79, 74, 72, 71, 77, 76, 73, 70, 73, 73, 73, 78, 77, 75,\n",
       "       72, 79, 79, 76, 71, 77, 73, 74, 77, 78, 72, 73, 77, 74, 79, 73, 74,\n",
       "       73, 77, 74, 79, 75, 73, 74, 75, 73, 78, 73, 77, 71, 79, 76, 73, 78,\n",
       "       74, 75, 74, 76, 70, 76, 78, 75, 79, 78, 71, 77, 79, 75, 70])"
      ]
     },
     "execution_count": 64,
     "metadata": {},
     "output_type": "execute_result"
    }
   ],
   "source": [
    "# Criando array do NumPy\n",
    "np_heights = np.array(height)\n",
    "np_heights"
   ]
  },
  {
   "cell_type": "code",
   "execution_count": 67,
   "metadata": {},
   "outputs": [
    {
     "data": {
      "text/plain": [
       "array([1.8034, 1.9812, 1.8796, 1.9812, 1.9812, 1.8796, 1.8542, 1.8796,\n",
       "       1.9558, 2.0066, 1.8796, 1.9812, 1.9304, 1.8034, 1.9558, 1.9812,\n",
       "       1.8542, 1.8288, 1.8034, 1.8796, 1.778 , 1.9812, 1.9812, 1.8288,\n",
       "       1.9304, 1.905 , 1.8034, 1.905 , 1.8542, 1.905 , 1.778 , 1.8796,\n",
       "       1.9304, 1.9812, 1.9558, 1.778 , 1.905 , 2.0066, 1.8796, 1.8288,\n",
       "       1.8034, 1.9558, 1.9304, 1.8542, 1.778 , 1.8542, 1.8542, 1.8542,\n",
       "       1.9812, 1.9558, 1.905 , 1.8288, 2.0066, 2.0066, 1.9304, 1.8034,\n",
       "       1.9558, 1.8542, 1.8796, 1.9558, 1.9812, 1.8288, 1.8542, 1.9558,\n",
       "       1.8796, 2.0066, 1.8542, 1.8796, 1.8542, 1.9558, 1.8796, 2.0066,\n",
       "       1.905 , 1.8542, 1.8796, 1.905 , 1.8542, 1.9812, 1.8542, 1.9558,\n",
       "       1.8034, 2.0066, 1.9304, 1.8542, 1.9812, 1.8796, 1.905 , 1.8796,\n",
       "       1.9304, 1.778 , 1.9304, 1.9812, 1.905 , 2.0066, 1.9812, 1.8034,\n",
       "       1.9558, 2.0066, 1.905 , 1.778 ])"
      ]
     },
     "execution_count": 67,
     "metadata": {},
     "output_type": "execute_result"
    }
   ],
   "source": [
    "# Transformando polegadas em centímetros em todo o array\n",
    "np_heights_m = np_heights * 0.0254\n",
    "np_heights_m"
   ]
  },
  {
   "cell_type": "markdown",
   "metadata": {},
   "source": [
    "#### Baseball player's bmi"
   ]
  },
  {
   "cell_type": "markdown",
   "metadata": {},
   "source": [
    "The MLB also offers to let you analyze their weight data. Again, both are available as regular Python lists: height and weight. height is in inches and weight is in pounds.\n",
    "\n",
    "It's now possible to calculate the BMI of each baseball player. Python code to convert height to a numpy array with the correct units is already available in the workspace. Follow the instructions step by step and finish the game!"
   ]
  },
  {
   "cell_type": "markdown",
   "metadata": {},
   "source": [
    "Steps:\n",
    "\n",
    "* Create a numpy array from the `weight` list with the correct units. Multiply by `0.453592` to go from pounds to kilograms. Store the resulting numpy array as `np_weight_kg`.\n",
    "\n",
    "* Use `np_height_m` and `np_weight_kg` to calculate the BMI of each player. Save the resulting numpy array as `bmi`.\n",
    "\n",
    "* Print out `bmi`."
   ]
  },
  {
   "cell_type": "code",
   "execution_count": 68,
   "metadata": {},
   "outputs": [
    {
     "name": "stdout",
     "output_type": "stream",
     "text": [
      "[187, 180, 207, 183, 184, 198, 209, 185, 189, 196, 202, 187, 182, 192, 188, 183, 182, 209, 204, 194, 187, 184, 192, 189, 184, 198, 196, 184, 209, 181, 206, 203, 202, 182, 182, 199, 197, 201, 182, 194, 185, 197, 186, 186, 186, 188, 185, 207, 208, 206, 180, 203, 205, 185, 190, 193, 200, 191, 208, 194, 183, 209, 207, 199, 204, 207, 194, 209, 202, 190, 199, 199, 187, 184, 203, 208, 208, 204, 195, 181, 195, 208, 183, 190, 184, 209, 184, 190, 193, 198, 188, 204, 187, 188, 209, 191, 204, 200, 196, 183]\n"
     ]
    }
   ],
   "source": [
    "# Criando lista de pesos em pounds\n",
    "import random\n",
    "weight = []\n",
    "for i in range(100):\n",
    "    weight.append(random.randrange(180, 210))\n",
    "print(weight)"
   ]
  },
  {
   "cell_type": "code",
   "execution_count": 69,
   "metadata": {},
   "outputs": [
    {
     "data": {
      "text/plain": [
       "array([84.821704, 81.64656 , 93.893544, 83.007336, 83.460928, 89.811216,\n",
       "       94.800728, 83.91452 , 85.728888, 88.904032, 91.625584, 84.821704,\n",
       "       82.553744, 87.089664, 85.275296, 83.007336, 82.553744, 94.800728,\n",
       "       92.532768, 87.996848, 84.821704, 83.460928, 87.089664, 85.728888,\n",
       "       83.460928, 89.811216, 88.904032, 83.460928, 94.800728, 82.100152,\n",
       "       93.439952, 92.079176, 91.625584, 82.553744, 82.553744, 90.264808,\n",
       "       89.357624, 91.171992, 82.553744, 87.996848, 83.91452 , 89.357624,\n",
       "       84.368112, 84.368112, 84.368112, 85.275296, 83.91452 , 93.893544,\n",
       "       94.347136, 93.439952, 81.64656 , 92.079176, 92.98636 , 83.91452 ,\n",
       "       86.18248 , 87.543256, 90.7184  , 86.636072, 94.347136, 87.996848,\n",
       "       83.007336, 94.800728, 93.893544, 90.264808, 92.532768, 93.893544,\n",
       "       87.996848, 94.800728, 91.625584, 86.18248 , 90.264808, 90.264808,\n",
       "       84.821704, 83.460928, 92.079176, 94.347136, 94.347136, 92.532768,\n",
       "       88.45044 , 82.100152, 88.45044 , 94.347136, 83.007336, 86.18248 ,\n",
       "       83.460928, 94.800728, 83.460928, 86.18248 , 87.543256, 89.811216,\n",
       "       85.275296, 92.532768, 84.821704, 85.275296, 94.800728, 86.636072,\n",
       "       92.532768, 90.7184  , 88.904032, 83.007336])"
      ]
     },
     "execution_count": 69,
     "metadata": {},
     "output_type": "execute_result"
    }
   ],
   "source": [
    "# Criando um array para armazenar pesos em pounds e outro para armazenar o valor convertido em kg\n",
    "np_weight = np.array(weight)\n",
    "np_weight_kg = np_weight * 0.453592\n",
    "\n",
    "np_weight_kg"
   ]
  },
  {
   "cell_type": "code",
   "execution_count": 70,
   "metadata": {},
   "outputs": [
    {
     "data": {
      "text/plain": [
       "array([26.08091731, 20.80085817, 26.57693285, 21.14753914, 21.26309946,\n",
       "       25.42141403, 27.57392049, 23.75233129, 22.41188095, 22.08003929,\n",
       "       25.93497795, 21.60978043, 22.15349015, 26.77826804, 22.29329957,\n",
       "       21.14753914, 24.01173937, 28.34518177, 28.45190979, 24.90785011,\n",
       "       26.83140901, 21.26309946, 22.18758205, 25.63272418, 22.3969351 ,\n",
       "       24.74802902, 27.33614862, 22.99816838, 27.57392049, 22.62319824,\n",
       "       29.55759495, 26.06336893, 24.58793962, 21.03197882, 21.58181129,\n",
       "       28.55321066, 24.62303897, 22.6433056 , 23.36715835, 26.31083858,\n",
       "       25.80197702, 23.360532  , 22.64038005, 24.53946991, 26.68792554,\n",
       "       24.80333518, 24.40753727, 27.31005522, 24.03654722, 24.42776442,\n",
       "       22.4982082 , 27.53144449, 23.09391864, 20.84085341, 23.12726994,\n",
       "       26.91773818, 23.71627614, 25.19913308, 26.70532383, 23.00478785,\n",
       "       21.14753914, 28.34518177, 27.31005522, 23.59769476, 26.19175991,\n",
       "       23.31922517, 25.59493098, 26.83371481, 26.65039205, 22.53046233,\n",
       "       25.54980501, 22.41799907, 23.37313852, 24.27560464, 26.06336893,\n",
       "       25.99792947, 27.44198785, 23.57430593, 25.72686361, 21.46322991,\n",
       "       27.19667848, 23.43187843, 22.27521263, 25.06720044, 21.26309946,\n",
       "       26.83371481, 22.99816838, 24.39428619, 23.49243736, 28.40972719,\n",
       "       22.88382499, 23.57430593, 23.37313852, 21.1788132 , 24.15210754,\n",
       "       26.63879789, 24.19060166, 22.53065234, 24.49804892, 26.25747513])"
      ]
     },
     "execution_count": 70,
     "metadata": {},
     "output_type": "execute_result"
    }
   ],
   "source": [
    "# Calculando bmi utilizando np_heights_m já calculado no exercício acima\n",
    "bmi = np_weight_kg / np_heights_m ** 2\n",
    "bmi"
   ]
  },
  {
   "cell_type": "markdown",
   "metadata": {},
   "source": [
    "#### Lightweight baseball players"
   ]
  },
  {
   "cell_type": "markdown",
   "metadata": {},
   "source": [
    "Subset with booleans\n",
    "\n",
    "* Create a boolean numpy array: the element of the array should be True if the corresponding baseball player's BMI is below 21. You can use the < operator for this. Name the array light.\n",
    "* Print the array light.\n",
    "* Print out a numpy array with the BMIs of all baseball players whose BMI is below 21. Use light inside square brackets to do a selection on the bmi array."
   ]
  },
  {
   "cell_type": "code",
   "execution_count": 73,
   "metadata": {},
   "outputs": [
    {
     "data": {
      "text/plain": [
       "array([False,  True, False, False, False, False, False, False, False,\n",
       "       False, False, False, False, False, False, False, False, False,\n",
       "       False, False, False, False, False, False, False, False, False,\n",
       "       False, False, False, False, False, False, False, False, False,\n",
       "       False, False, False, False, False, False, False, False, False,\n",
       "       False, False, False, False, False, False, False, False,  True,\n",
       "       False, False, False, False, False, False, False, False, False,\n",
       "       False, False, False, False, False, False, False, False, False,\n",
       "       False, False, False, False, False, False, False, False, False,\n",
       "       False, False, False, False, False, False, False, False, False,\n",
       "       False, False, False, False, False, False, False, False, False,\n",
       "       False])"
      ]
     },
     "execution_count": 73,
     "metadata": {},
     "output_type": "execute_result"
    }
   ],
   "source": [
    "# Verficando array de booleanos \n",
    "# IMC de jogadores < 21\n",
    "light = bmi < 21\n",
    "light"
   ]
  },
  {
   "cell_type": "code",
   "execution_count": 74,
   "metadata": {},
   "outputs": [
    {
     "data": {
      "text/plain": [
       "array([20.80085817, 20.84085341])"
      ]
     },
     "execution_count": 74,
     "metadata": {},
     "output_type": "execute_result"
    }
   ],
   "source": [
    "# Slice and dice\n",
    "light = bmi[bmi < 21]\n",
    "light"
   ]
  },
  {
   "cell_type": "markdown",
   "metadata": {},
   "source": [
    "## Arrays Bidimensionais"
   ]
  },
  {
   "cell_type": "markdown",
   "metadata": {},
   "source": [
    "Ainda dentro do universo do Baseball, verificamos que os arrays criados para heights e weights poderiam ser alocados em uma única estrutura do tipo array, visto que o NumPy oferece _ndarrays_, ou seja, arrays de N dimensões."
   ]
  },
  {
   "cell_type": "markdown",
   "metadata": {},
   "source": [
    "### Teoria"
   ]
  },
  {
   "cell_type": "code",
   "execution_count": 75,
   "metadata": {},
   "outputs": [
    {
     "data": {
      "text/plain": [
       "array([[ 1.72,  1.68,  1.71,  1.89,  1.79],\n",
       "       [65.4 , 59.2 , 63.2 , 88.4 , 68.7 ]])"
      ]
     },
     "execution_count": 75,
     "metadata": {},
     "output_type": "execute_result"
    }
   ],
   "source": [
    "# Criando o primeiro 2D_array\n",
    "np_2d = np.array([[1.72, 1.68, 1.71, 1.89, 1.79],\n",
    "                  [65.4, 59.2, 63.2, 88.4, 68.7]])\n",
    "np_2d"
   ]
  },
  {
   "cell_type": "code",
   "execution_count": 76,
   "metadata": {},
   "outputs": [
    {
     "data": {
      "text/plain": [
       "(2, 5)"
      ]
     },
     "execution_count": 76,
     "metadata": {},
     "output_type": "execute_result"
    }
   ],
   "source": [
    "# Vamos verificar algumas propriedades deste array\n",
    "np_2d.shape"
   ]
  },
  {
   "cell_type": "markdown",
   "metadata": {},
   "source": [
    "O comando shape indicou que este array possui 2 linhas e 5 colunas"
   ]
  },
  {
   "cell_type": "markdown",
   "metadata": {},
   "source": [
    "<b>Indexação: </b>"
   ]
  },
  {
   "attachments": {
    "indexing_2darray.jpg": {
     "image/jpeg": "[encoded data removed]"
    }
   },
   "cell_type": "markdown",
   "metadata": {},
   "source": [
    "![indexing_2darray.jpg](attachment:indexing_2darray.jpg)"
   ]
  },
  {
   "cell_type": "code",
   "execution_count": 78,
   "metadata": {},
   "outputs": [
    {
     "data": {
      "text/plain": [
       "array([1.72, 1.68, 1.71, 1.89, 1.79])"
      ]
     },
     "execution_count": 78,
     "metadata": {},
     "output_type": "execute_result"
    }
   ],
   "source": [
    "# Indexando e selecionando elementos\n",
    "\n",
    "# Primeira linha\n",
    "np_2d[0]"
   ]
  },
  {
   "cell_type": "code",
   "execution_count": 79,
   "metadata": {},
   "outputs": [
    {
     "data": {
      "text/plain": [
       "1.71"
      ]
     },
     "execution_count": 79,
     "metadata": {},
     "output_type": "execute_result"
    }
   ],
   "source": [
    "# Terceiro elemento da primeira linha\n",
    "np_2d[0][2]"
   ]
  },
  {
   "cell_type": "code",
   "execution_count": 81,
   "metadata": {},
   "outputs": [
    {
     "data": {
      "text/plain": [
       "1.71"
      ]
     },
     "execution_count": 81,
     "metadata": {},
     "output_type": "execute_result"
    }
   ],
   "source": [
    "# Forma mais elegante (utilizando [linha, coluna])\n",
    "np_2d[0, 2]"
   ]
  },
  {
   "cell_type": "code",
   "execution_count": 82,
   "metadata": {},
   "outputs": [
    {
     "data": {
      "text/plain": [
       "array([[ 1.68,  1.71],\n",
       "       [59.2 , 63.2 ]])"
      ]
     },
     "execution_count": 82,
     "metadata": {},
     "output_type": "execute_result"
    }
   ],
   "source": [
    "# Todas as linhas entre colunas 1 e 3\n",
    "np_2d[:, 1:3]"
   ]
  },
  {
   "cell_type": "code",
   "execution_count": 85,
   "metadata": {},
   "outputs": [
    {
     "data": {
      "text/plain": [
       "array([65.4, 59.2, 63.2, 88.4, 68.7])"
      ]
     },
     "execution_count": 85,
     "metadata": {},
     "output_type": "execute_result"
    }
   ],
   "source": [
    "# Todas as colunas da segunda linha\n",
    "np_2d[1, :]"
   ]
  },
  {
   "cell_type": "code",
   "execution_count": 86,
   "metadata": {},
   "outputs": [
    {
     "data": {
      "text/plain": [
       "array([ 1.68, 59.2 ])"
      ]
     },
     "execution_count": 86,
     "metadata": {},
     "output_type": "execute_result"
    }
   ],
   "source": [
    "# Todas as linhas da segunda coluna\n",
    "np_2d[:, 1]"
   ]
  }
 ],
 "metadata": {
  "kernelspec": {
   "display_name": "Python 3",
   "language": "python",
   "name": "python3"
  },
  "language_info": {
   "codemirror_mode": {
    "name": "ipython",
    "version": 3
   },
   "file_extension": ".py",
   "mimetype": "text/x-python",
   "name": "python",
   "nbconvert_exporter": "python",
   "pygments_lexer": "ipython3",
   "version": "3.6.4"
  },
  "toc": {
   "base_numbering": 1,
   "nav_menu": {
    "height": "260px",
    "width": "160px"
   },
   "number_sections": true,
   "sideBar": false,
   "skip_h1_title": false,
   "title_cell": "Table of Contents",
   "title_sidebar": "Contents",
   "toc_cell": false,
   "toc_position": {
    "height": "292px",
    "left": "1452.22px",
    "top": "131px",
    "width": "220px"
   },
   "toc_section_display": true,
   "toc_window_display": true
  }
 },
 "nbformat": 4,
 "nbformat_minor": 2
}
